{
 "cells": [
  {
   "cell_type": "markdown",
   "id": "246bd121",
   "metadata": {},
   "source": [
    "# Movie Review Classification\n",
    "\n",
    "### Given the movie review text data and the respective classification of the review as liked or not liked specified as 1 and 0 respectively, using the NLP's ability to take into account the text data and significance of the text to train the model to classify the same for the unseen data."
   ]
  },
  {
   "cell_type": "code",
   "execution_count": 1,
   "id": "19d292a4-0ea1-40e0-8360-9131499282a0",
   "metadata": {},
   "outputs": [],
   "source": [
    "import os, sys\n",
    "import numpy as np\n",
    "import pandas as pd\n",
    "import matplotlib.pyplot as plt\n",
    "import seaborn as sns\n",
    "import statsmodels.api as sm\n",
    "import scipy.stats as stats\n",
    "import warnings\n",
    "warnings.filterwarnings('ignore')\n",
    "%matplotlib inline\n",
    "sns.set()\n",
    "pd.set_option('display.max_rows',None)\n",
    "pd.set_option('display.max_columns',None)\n",
    "sns.set_style('whitegrid')"
   ]
  },
  {
   "cell_type": "code",
   "execution_count": 2,
   "id": "367c6bb6-ec6a-4371-be49-ce234c773eaa",
   "metadata": {},
   "outputs": [
    {
     "data": {
      "text/html": [
       "<div>\n",
       "<style scoped>\n",
       "    .dataframe tbody tr th:only-of-type {\n",
       "        vertical-align: middle;\n",
       "    }\n",
       "\n",
       "    .dataframe tbody tr th {\n",
       "        vertical-align: top;\n",
       "    }\n",
       "\n",
       "    .dataframe thead th {\n",
       "        text-align: right;\n",
       "    }\n",
       "</style>\n",
       "<table border=\"1\" class=\"dataframe\">\n",
       "  <thead>\n",
       "    <tr style=\"text-align: right;\">\n",
       "      <th></th>\n",
       "      <th>text</th>\n",
       "      <th>label</th>\n",
       "    </tr>\n",
       "  </thead>\n",
       "  <tbody>\n",
       "    <tr>\n",
       "      <th>0</th>\n",
       "      <td>I grew up (b. 1965) watching and loving the Th...</td>\n",
       "      <td>0</td>\n",
       "    </tr>\n",
       "    <tr>\n",
       "      <th>1</th>\n",
       "      <td>When I put this movie in my DVD player, and sa...</td>\n",
       "      <td>0</td>\n",
       "    </tr>\n",
       "    <tr>\n",
       "      <th>2</th>\n",
       "      <td>Why do people who do not know what a particula...</td>\n",
       "      <td>0</td>\n",
       "    </tr>\n",
       "    <tr>\n",
       "      <th>3</th>\n",
       "      <td>Even though I have great interest in Biblical ...</td>\n",
       "      <td>0</td>\n",
       "    </tr>\n",
       "    <tr>\n",
       "      <th>4</th>\n",
       "      <td>Im a die hard Dads Army fan and nothing will e...</td>\n",
       "      <td>1</td>\n",
       "    </tr>\n",
       "  </tbody>\n",
       "</table>\n",
       "</div>"
      ],
      "text/plain": [
       "                                                text  label\n",
       "0  I grew up (b. 1965) watching and loving the Th...      0\n",
       "1  When I put this movie in my DVD player, and sa...      0\n",
       "2  Why do people who do not know what a particula...      0\n",
       "3  Even though I have great interest in Biblical ...      0\n",
       "4  Im a die hard Dads Army fan and nothing will e...      1"
      ]
     },
     "execution_count": 2,
     "metadata": {},
     "output_type": "execute_result"
    }
   ],
   "source": [
    "# Loading the train dataset\n",
    "\n",
    "df_train = pd.read_csv('Train.csv')\n",
    "df_train.head()"
   ]
  },
  {
   "cell_type": "code",
   "execution_count": 3,
   "id": "fde4dc27-2482-4c31-9116-4b61887c249d",
   "metadata": {},
   "outputs": [
    {
     "name": "stdout",
     "output_type": "stream",
     "text": [
      "(40000, 2)\n"
     ]
    }
   ],
   "source": [
    "print(df_train.shape)"
   ]
  },
  {
   "cell_type": "code",
   "execution_count": 4,
   "id": "dcd84eb3-700f-48b3-ac7d-c188acf952a5",
   "metadata": {},
   "outputs": [
    {
     "data": {
      "text/html": [
       "<div>\n",
       "<style scoped>\n",
       "    .dataframe tbody tr th:only-of-type {\n",
       "        vertical-align: middle;\n",
       "    }\n",
       "\n",
       "    .dataframe tbody tr th {\n",
       "        vertical-align: top;\n",
       "    }\n",
       "\n",
       "    .dataframe thead th {\n",
       "        text-align: right;\n",
       "    }\n",
       "</style>\n",
       "<table border=\"1\" class=\"dataframe\">\n",
       "  <thead>\n",
       "    <tr style=\"text-align: right;\">\n",
       "      <th></th>\n",
       "      <th>text</th>\n",
       "      <th>label</th>\n",
       "    </tr>\n",
       "  </thead>\n",
       "  <tbody>\n",
       "    <tr>\n",
       "      <th>0</th>\n",
       "      <td>It's been about 14 years since Sharon Stone aw...</td>\n",
       "      <td>0</td>\n",
       "    </tr>\n",
       "    <tr>\n",
       "      <th>1</th>\n",
       "      <td>someone needed to make a car payment... this i...</td>\n",
       "      <td>0</td>\n",
       "    </tr>\n",
       "    <tr>\n",
       "      <th>2</th>\n",
       "      <td>The Guidelines state that a comment must conta...</td>\n",
       "      <td>0</td>\n",
       "    </tr>\n",
       "    <tr>\n",
       "      <th>3</th>\n",
       "      <td>This movie is a muddled mish-mash of clichés f...</td>\n",
       "      <td>0</td>\n",
       "    </tr>\n",
       "    <tr>\n",
       "      <th>4</th>\n",
       "      <td>Before Stan Laurel became the smaller half of ...</td>\n",
       "      <td>0</td>\n",
       "    </tr>\n",
       "  </tbody>\n",
       "</table>\n",
       "</div>"
      ],
      "text/plain": [
       "                                                text  label\n",
       "0  It's been about 14 years since Sharon Stone aw...      0\n",
       "1  someone needed to make a car payment... this i...      0\n",
       "2  The Guidelines state that a comment must conta...      0\n",
       "3  This movie is a muddled mish-mash of clichés f...      0\n",
       "4  Before Stan Laurel became the smaller half of ...      0"
      ]
     },
     "execution_count": 4,
     "metadata": {},
     "output_type": "execute_result"
    }
   ],
   "source": [
    "df_valid = pd.read_csv('Valid.csv')\n",
    "df_valid.head()"
   ]
  },
  {
   "cell_type": "code",
   "execution_count": 5,
   "id": "b7755107-2217-4b17-a7df-9a6f29bb87a9",
   "metadata": {},
   "outputs": [
    {
     "data": {
      "text/plain": [
       "(5000, 2)"
      ]
     },
     "execution_count": 5,
     "metadata": {},
     "output_type": "execute_result"
    }
   ],
   "source": [
    "df_valid.shape"
   ]
  },
  {
   "cell_type": "code",
   "execution_count": 6,
   "id": "2efd39bd-1fec-4a26-85d8-c18009e80e37",
   "metadata": {},
   "outputs": [
    {
     "data": {
      "text/html": [
       "<div>\n",
       "<style scoped>\n",
       "    .dataframe tbody tr th:only-of-type {\n",
       "        vertical-align: middle;\n",
       "    }\n",
       "\n",
       "    .dataframe tbody tr th {\n",
       "        vertical-align: top;\n",
       "    }\n",
       "\n",
       "    .dataframe thead th {\n",
       "        text-align: right;\n",
       "    }\n",
       "</style>\n",
       "<table border=\"1\" class=\"dataframe\">\n",
       "  <thead>\n",
       "    <tr style=\"text-align: right;\">\n",
       "      <th></th>\n",
       "      <th>text</th>\n",
       "      <th>label</th>\n",
       "    </tr>\n",
       "  </thead>\n",
       "  <tbody>\n",
       "    <tr>\n",
       "      <th>0</th>\n",
       "      <td>I always wrote this series off as being a comp...</td>\n",
       "      <td>0</td>\n",
       "    </tr>\n",
       "    <tr>\n",
       "      <th>1</th>\n",
       "      <td>1st watched 12/7/2002 - 3 out of 10(Dir-Steve ...</td>\n",
       "      <td>0</td>\n",
       "    </tr>\n",
       "    <tr>\n",
       "      <th>2</th>\n",
       "      <td>This movie was so poorly written and directed ...</td>\n",
       "      <td>0</td>\n",
       "    </tr>\n",
       "    <tr>\n",
       "      <th>3</th>\n",
       "      <td>The most interesting thing about Miryang (Secr...</td>\n",
       "      <td>1</td>\n",
       "    </tr>\n",
       "    <tr>\n",
       "      <th>4</th>\n",
       "      <td>when i first read about \"berlin am meer\" i did...</td>\n",
       "      <td>0</td>\n",
       "    </tr>\n",
       "  </tbody>\n",
       "</table>\n",
       "</div>"
      ],
      "text/plain": [
       "                                                text  label\n",
       "0  I always wrote this series off as being a comp...      0\n",
       "1  1st watched 12/7/2002 - 3 out of 10(Dir-Steve ...      0\n",
       "2  This movie was so poorly written and directed ...      0\n",
       "3  The most interesting thing about Miryang (Secr...      1\n",
       "4  when i first read about \"berlin am meer\" i did...      0"
      ]
     },
     "execution_count": 6,
     "metadata": {},
     "output_type": "execute_result"
    }
   ],
   "source": [
    "df_test = pd.read_csv('Test.csv')\n",
    "df_test.head()"
   ]
  },
  {
   "cell_type": "code",
   "execution_count": 7,
   "id": "c574013c-990c-4b1b-929f-934dd49265fa",
   "metadata": {},
   "outputs": [
    {
     "data": {
      "text/plain": [
       "(5000, 2)"
      ]
     },
     "execution_count": 7,
     "metadata": {},
     "output_type": "execute_result"
    }
   ],
   "source": [
    "df_test.shape"
   ]
  },
  {
   "cell_type": "code",
   "execution_count": 8,
   "id": "65f3c6c6-6254-4584-9361-fd430ae77918",
   "metadata": {},
   "outputs": [],
   "source": [
    "# Merging test and validation data as both contain the labels and considering them as test data\n",
    "\n",
    "df_merged_test = pd.concat([df_valid, df_test], axis=0)"
   ]
  },
  {
   "cell_type": "code",
   "execution_count": 9,
   "id": "06a24cd2",
   "metadata": {},
   "outputs": [
    {
     "data": {
      "text/html": [
       "<div>\n",
       "<style scoped>\n",
       "    .dataframe tbody tr th:only-of-type {\n",
       "        vertical-align: middle;\n",
       "    }\n",
       "\n",
       "    .dataframe tbody tr th {\n",
       "        vertical-align: top;\n",
       "    }\n",
       "\n",
       "    .dataframe thead th {\n",
       "        text-align: right;\n",
       "    }\n",
       "</style>\n",
       "<table border=\"1\" class=\"dataframe\">\n",
       "  <thead>\n",
       "    <tr style=\"text-align: right;\">\n",
       "      <th></th>\n",
       "      <th>text</th>\n",
       "      <th>label</th>\n",
       "    </tr>\n",
       "  </thead>\n",
       "  <tbody>\n",
       "    <tr>\n",
       "      <th>0</th>\n",
       "      <td>It's been about 14 years since Sharon Stone aw...</td>\n",
       "      <td>0</td>\n",
       "    </tr>\n",
       "    <tr>\n",
       "      <th>1</th>\n",
       "      <td>someone needed to make a car payment... this i...</td>\n",
       "      <td>0</td>\n",
       "    </tr>\n",
       "    <tr>\n",
       "      <th>2</th>\n",
       "      <td>The Guidelines state that a comment must conta...</td>\n",
       "      <td>0</td>\n",
       "    </tr>\n",
       "    <tr>\n",
       "      <th>3</th>\n",
       "      <td>This movie is a muddled mish-mash of clichés f...</td>\n",
       "      <td>0</td>\n",
       "    </tr>\n",
       "    <tr>\n",
       "      <th>4</th>\n",
       "      <td>Before Stan Laurel became the smaller half of ...</td>\n",
       "      <td>0</td>\n",
       "    </tr>\n",
       "  </tbody>\n",
       "</table>\n",
       "</div>"
      ],
      "text/plain": [
       "                                                text  label\n",
       "0  It's been about 14 years since Sharon Stone aw...      0\n",
       "1  someone needed to make a car payment... this i...      0\n",
       "2  The Guidelines state that a comment must conta...      0\n",
       "3  This movie is a muddled mish-mash of clichés f...      0\n",
       "4  Before Stan Laurel became the smaller half of ...      0"
      ]
     },
     "execution_count": 9,
     "metadata": {},
     "output_type": "execute_result"
    }
   ],
   "source": [
    "df_merged_test.head()"
   ]
  },
  {
   "cell_type": "code",
   "execution_count": 10,
   "id": "330f0cb9",
   "metadata": {},
   "outputs": [
    {
     "data": {
      "text/plain": [
       "(10000, 2)"
      ]
     },
     "execution_count": 10,
     "metadata": {},
     "output_type": "execute_result"
    }
   ],
   "source": [
    "df_merged_test.shape"
   ]
  },
  {
   "cell_type": "code",
   "execution_count": 11,
   "id": "7583a512-601d-473c-b589-41d0cecd0836",
   "metadata": {},
   "outputs": [
    {
     "data": {
      "text/html": [
       "<div>\n",
       "<style scoped>\n",
       "    .dataframe tbody tr th:only-of-type {\n",
       "        vertical-align: middle;\n",
       "    }\n",
       "\n",
       "    .dataframe tbody tr th {\n",
       "        vertical-align: top;\n",
       "    }\n",
       "\n",
       "    .dataframe thead th {\n",
       "        text-align: right;\n",
       "    }\n",
       "</style>\n",
       "<table border=\"1\" class=\"dataframe\">\n",
       "  <thead>\n",
       "    <tr style=\"text-align: right;\">\n",
       "      <th></th>\n",
       "      <th>text</th>\n",
       "      <th>label</th>\n",
       "    </tr>\n",
       "  </thead>\n",
       "  <tbody>\n",
       "    <tr>\n",
       "      <th>0</th>\n",
       "      <td>I grew up (b. 1965) watching and loving the Th...</td>\n",
       "      <td>0</td>\n",
       "    </tr>\n",
       "    <tr>\n",
       "      <th>1</th>\n",
       "      <td>When I put this movie in my DVD player, and sa...</td>\n",
       "      <td>0</td>\n",
       "    </tr>\n",
       "    <tr>\n",
       "      <th>2</th>\n",
       "      <td>Why do people who do not know what a particula...</td>\n",
       "      <td>0</td>\n",
       "    </tr>\n",
       "    <tr>\n",
       "      <th>3</th>\n",
       "      <td>Even though I have great interest in Biblical ...</td>\n",
       "      <td>0</td>\n",
       "    </tr>\n",
       "    <tr>\n",
       "      <th>4</th>\n",
       "      <td>Im a die hard Dads Army fan and nothing will e...</td>\n",
       "      <td>1</td>\n",
       "    </tr>\n",
       "  </tbody>\n",
       "</table>\n",
       "</div>"
      ],
      "text/plain": [
       "                                                text  label\n",
       "0  I grew up (b. 1965) watching and loving the Th...      0\n",
       "1  When I put this movie in my DVD player, and sa...      0\n",
       "2  Why do people who do not know what a particula...      0\n",
       "3  Even though I have great interest in Biblical ...      0\n",
       "4  Im a die hard Dads Army fan and nothing will e...      1"
      ]
     },
     "execution_count": 11,
     "metadata": {},
     "output_type": "execute_result"
    }
   ],
   "source": [
    "df_train.head()"
   ]
  },
  {
   "cell_type": "markdown",
   "id": "89770a7c-afaf-4f92-ac6d-136f167e4f4c",
   "metadata": {},
   "source": [
    "# Preprocessing"
   ]
  },
  {
   "cell_type": "code",
   "execution_count": 12,
   "id": "97235c64-7207-45fb-9249-74eecd6b6421",
   "metadata": {},
   "outputs": [
    {
     "data": {
      "text/plain": [
       "text     0\n",
       "label    0\n",
       "dtype: int64"
      ]
     },
     "execution_count": 12,
     "metadata": {},
     "output_type": "execute_result"
    }
   ],
   "source": [
    "# Checking if there are any null values\n",
    "\n",
    "df_train.isnull().sum()"
   ]
  },
  {
   "cell_type": "code",
   "execution_count": 13,
   "id": "49bf8d50-8528-46bf-9aee-be4bf9a1fad9",
   "metadata": {},
   "outputs": [
    {
     "name": "stdout",
     "output_type": "stream",
     "text": [
      "<class 'pandas.core.frame.DataFrame'>\n",
      "RangeIndex: 40000 entries, 0 to 39999\n",
      "Data columns (total 2 columns):\n",
      " #   Column  Non-Null Count  Dtype \n",
      "---  ------  --------------  ----- \n",
      " 0   text    40000 non-null  object\n",
      " 1   label   40000 non-null  int64 \n",
      "dtypes: int64(1), object(1)\n",
      "memory usage: 625.1+ KB\n"
     ]
    }
   ],
   "source": [
    "# Checking the info of the data\n",
    "\n",
    "df_train.info()"
   ]
  },
  {
   "cell_type": "code",
   "execution_count": 14,
   "id": "36204e60-b033-444d-bf15-67c2025fa7c3",
   "metadata": {},
   "outputs": [
    {
     "data": {
      "text/plain": [
       "label\n",
       "0    20019\n",
       "1    19981\n",
       "Name: count, dtype: int64"
      ]
     },
     "execution_count": 14,
     "metadata": {},
     "output_type": "execute_result"
    }
   ],
   "source": [
    "# Checking the number of likes and dislikes in target variable (1 is liked and 0 is disliked)\n",
    "\n",
    "df_train['label'].value_counts()"
   ]
  },
  {
   "cell_type": "markdown",
   "id": "6077fa60-8561-4951-b35f-656bb745c346",
   "metadata": {},
   "source": [
    "The class is balanced here, hence we can consider model building"
   ]
  },
  {
   "cell_type": "code",
   "execution_count": 16,
   "id": "71a8f064-3bbd-405f-bc6a-124172440208",
   "metadata": {},
   "outputs": [
    {
     "data": {
      "image/png": "[encoded data removed]",
      "text/plain": [
       "<Figure size 640x480 with 1 Axes>"
      ]
     },
     "metadata": {},
     "output_type": "display_data"
    }
   ],
   "source": [
    "sns.countplot(data=df_train, x = 'label')\n",
    "plt.show()"
   ]
  },
  {
   "cell_type": "markdown",
   "id": "de3abda4-8ece-4296-b1d5-93ae552ddf49",
   "metadata": {},
   "source": [
    "### Splitting the data into independent variable and dependent variable"
   ]
  },
  {
   "cell_type": "code",
   "execution_count": 18,
   "id": "6c34c68b-f019-4f06-86bf-87b70fdfe4c2",
   "metadata": {},
   "outputs": [],
   "source": [
    "x = df_train['text']\n",
    "y = df_train['label']"
   ]
  },
  {
   "cell_type": "markdown",
   "id": "376101e6-a86f-40ed-87e9-27ce30795287",
   "metadata": {},
   "source": [
    "### Splitting them into train and test"
   ]
  },
  {
   "cell_type": "code",
   "execution_count": 19,
   "id": "382faafe-4691-441a-9ec1-9c15ba5eab24",
   "metadata": {},
   "outputs": [],
   "source": [
    "from sklearn.model_selection import train_test_split, cross_val_score\n",
    "x_train, x_test, y_train, y_test = train_test_split(x, y, test_size=0.25, random_state=101)"
   ]
  },
  {
   "cell_type": "markdown",
   "id": "e441d23c-7bc4-4041-a668-afc8afe4e2ca",
   "metadata": {},
   "source": [
    "## The text in the x column needs to be converted into numeric for the model to understand and also to know the significance of specific words, using TF-IDF."
   ]
  },
  {
   "cell_type": "code",
   "execution_count": 21,
   "id": "7fd516cf-b7bf-49bf-8dd9-95c277726fb9",
   "metadata": {},
   "outputs": [],
   "source": [
    "# importing required packages\n",
    "\n",
    "from sklearn.feature_extraction.text import TfidfVectorizer\n",
    "from sklearn.ensemble import RandomForestClassifier\n",
    "from sklearn.naive_bayes import BernoulliNB\n",
    "from sklearn.pipeline import Pipeline\n",
    "from sklearn.metrics import classification_report, confusion_matrix, accuracy_score"
   ]
  },
  {
   "cell_type": "code",
   "execution_count": 22,
   "id": "f44195d0-3631-4fbf-ba7d-11ef90d711dd",
   "metadata": {},
   "outputs": [],
   "source": [
    "pipeline_classify_rf = Pipeline([('TF-IDF', TfidfVectorizer()), ('Classifier_Model', RandomForestClassifier())])"
   ]
  },
  {
   "cell_type": "code",
   "execution_count": 23,
   "id": "fa19aa0a-4607-49cf-82e4-e66fb252f366",
   "metadata": {},
   "outputs": [],
   "source": [
    "pipeline_classify_rf.fit(x_train, y_train)\n",
    "pred_train_rf = pipeline_classify_rf.predict(x_train)\n",
    "pred_test_rf = pipeline_classify_rf.predict(x_test)"
   ]
  },
  {
   "cell_type": "code",
   "execution_count": 24,
   "id": "8b444900-6cd3-4877-aa26-4f03b9952490",
   "metadata": {},
   "outputs": [
    {
     "name": "stdout",
     "output_type": "stream",
     "text": [
      "The classification report and confusion matrix for the Random forest classifier model is: \n",
      "\n",
      "\n",
      "\n",
      "\n",
      "The classification report and confusion matrix for Train data:\n",
      "\n",
      "\n",
      "              precision    recall  f1-score   support\n",
      "\n",
      "           0       1.00      1.00      1.00     15004\n",
      "           1       1.00      1.00      1.00     14996\n",
      "\n",
      "    accuracy                           1.00     30000\n",
      "   macro avg       1.00      1.00      1.00     30000\n",
      "weighted avg       1.00      1.00      1.00     30000\n",
      "\n",
      "----------------------------------------------------------------------------------------------------\n",
      "[[15004     0]\n",
      " [    0 14996]]\n",
      "----------------------------------------------------------------------------------------------------\n",
      "The accuracy score for train data: 1.0\n",
      "The classification report and confusion matrix for Test data:\n",
      "\n",
      "\n",
      "              precision    recall  f1-score   support\n",
      "\n",
      "           0       0.84      0.85      0.84      5015\n",
      "           1       0.85      0.83      0.84      4985\n",
      "\n",
      "    accuracy                           0.84     10000\n",
      "   macro avg       0.84      0.84      0.84     10000\n",
      "weighted avg       0.84      0.84      0.84     10000\n",
      "\n",
      "----------------------------------------------------------------------------------------------------\n",
      "[[4273  742]\n",
      " [ 840 4145]]\n",
      "----------------------------------------------------------------------------------------------------\n",
      "The accuracy score for test data: 0.8418\n"
     ]
    }
   ],
   "source": [
    "# Model Performance:\n",
    "\n",
    "print('The classification report and confusion matrix for the Random forest classifier model is: ')\n",
    "print('\\n')\n",
    "print('\\n')\n",
    "print('The classification report and confusion matrix for Train data:')\n",
    "print('\\n')\n",
    "print(classification_report(y_train, pred_train_rf))\n",
    "print('--'*50)\n",
    "print(confusion_matrix(y_train, pred_train_rf))\n",
    "print('--'*50)\n",
    "print('The accuracy score for train data:', accuracy_score(y_train, pred_train_rf))\n",
    "\n",
    "print('The classification report and confusion matrix for Test data:')\n",
    "print('\\n')\n",
    "print(classification_report(y_test, pred_test_rf))\n",
    "print('--'*50)\n",
    "print(confusion_matrix(y_test, pred_test_rf))\n",
    "print('--'*50)\n",
    "print('The accuracy score for test data:', accuracy_score(y_test, pred_test_rf))"
   ]
  },
  {
   "cell_type": "code",
   "execution_count": 30,
   "id": "15d0c6cc",
   "metadata": {},
   "outputs": [
    {
     "name": "stdout",
     "output_type": "stream",
     "text": [
      "Cross Validation mean accuracy for train data is: 0.8384\n",
      "Cross Validation mean accuracy for test data is: 0.8278000000000001\n"
     ]
    }
   ],
   "source": [
    "cross_val_train = cross_val_score(estimator=pipeline_classify_rf, X=x_train, y=y_train, cv=5, scoring='accuracy')\n",
    "cross_val_test = cross_val_score(estimator=pipeline_classify_rf, X=x_test, y=y_test, cv=5, scoring='accuracy')\n",
    "print('Cross Validation mean accuracy for train data is:', np.mean(cross_val_train))\n",
    "print('Cross Validation mean accuracy for test data is:', np.mean(cross_val_test))"
   ]
  },
  {
   "cell_type": "code",
   "execution_count": 25,
   "id": "8542379a-2bc2-472b-a78f-15fc99eec4dc",
   "metadata": {},
   "outputs": [],
   "source": [
    "# Building XGBoost algorithm\n",
    "\n",
    "from xgboost import XGBClassifier"
   ]
  },
  {
   "cell_type": "code",
   "execution_count": 26,
   "id": "e10f0c93-23a6-4ee8-bff0-c99d3caffe2e",
   "metadata": {},
   "outputs": [],
   "source": [
    "pipeline_classify_xgb = Pipeline([('TF-IDF', TfidfVectorizer()), ('Classifier_Model', XGBClassifier())])\n",
    "pipeline_classify_xgb.fit(x_train, y_train)\n",
    "pred_train_xgb = pipeline_classify_xgb.predict(x_train)\n",
    "pred_test_xgb = pipeline_classify_xgb.predict(x_test)"
   ]
  },
  {
   "cell_type": "code",
   "execution_count": 27,
   "id": "eb371fc0-32c6-40ea-80c6-467a4d32dd72",
   "metadata": {},
   "outputs": [
    {
     "name": "stdout",
     "output_type": "stream",
     "text": [
      "The classification report and confusion matrix for the XG Boost Classifier model is: \n",
      "\n",
      "\n",
      "\n",
      "\n",
      "The classification report and confusion matrix for Train data:\n",
      "\n",
      "\n",
      "              precision    recall  f1-score   support\n",
      "\n",
      "           0       0.96      0.94      0.95     15004\n",
      "           1       0.94      0.96      0.95     14996\n",
      "\n",
      "    accuracy                           0.95     30000\n",
      "   macro avg       0.95      0.95      0.95     30000\n",
      "weighted avg       0.95      0.95      0.95     30000\n",
      "\n",
      "----------------------------------------------------------------------------------------------------\n",
      "[[14079   925]\n",
      " [  529 14467]]\n",
      "----------------------------------------------------------------------------------------------------\n",
      "The accuracy score for train data: 0.9515333333333333\n",
      "The classification report and confusion matrix for Test data:\n",
      "\n",
      "\n",
      "              precision    recall  f1-score   support\n",
      "\n",
      "           0       0.86      0.85      0.85      5015\n",
      "           1       0.85      0.87      0.86      4985\n",
      "\n",
      "    accuracy                           0.86     10000\n",
      "   macro avg       0.86      0.86      0.86     10000\n",
      "weighted avg       0.86      0.86      0.86     10000\n",
      "\n",
      "----------------------------------------------------------------------------------------------------\n",
      "[[4238  777]\n",
      " [ 670 4315]]\n",
      "----------------------------------------------------------------------------------------------------\n",
      "The accuracy score for Test data: 0.8553\n"
     ]
    }
   ],
   "source": [
    "# Model Performance:\n",
    "\n",
    "print('The classification report and confusion matrix for the XG Boost Classifier model is: ')\n",
    "print('\\n')\n",
    "print('\\n')\n",
    "print('The classification report and confusion matrix for Train data:')\n",
    "print('\\n')\n",
    "print(classification_report(y_train, pred_train_xgb))\n",
    "print('--'*50)\n",
    "print(confusion_matrix(y_train, pred_train_xgb))\n",
    "print('--'*50)\n",
    "print('The accuracy score for train data:', accuracy_score(y_train, pred_train_xgb))\n",
    "\n",
    "print('The classification report and confusion matrix for Test data:')\n",
    "print('\\n')\n",
    "print(classification_report(y_test, pred_test_xgb))\n",
    "print('--'*50)\n",
    "print(confusion_matrix(y_test, pred_test_xgb))\n",
    "print('--'*50)\n",
    "print('The accuracy score for Test data:', accuracy_score(y_test, pred_test_xgb))"
   ]
  },
  {
   "cell_type": "code",
   "execution_count": 31,
   "id": "fc072081",
   "metadata": {},
   "outputs": [
    {
     "name": "stdout",
     "output_type": "stream",
     "text": [
      "Cross Validation mean accuracy for train data is: 0.8546999999999999\n",
      "Cross Validation mean accuracy for test data is: 0.8370000000000001\n"
     ]
    }
   ],
   "source": [
    "cross_val_train = cross_val_score(estimator=pipeline_classify_xgb, X=x_train, y=y_train, cv=5, scoring='accuracy')\n",
    "cross_val_test = cross_val_score(estimator=pipeline_classify_xgb, X=x_test, y=y_test, cv=5, scoring='accuracy')\n",
    "print('Cross Validation mean accuracy for train data is:', np.mean(cross_val_train))\n",
    "print('Cross Validation mean accuracy for test data is:', np.mean(cross_val_test))"
   ]
  },
  {
   "cell_type": "code",
   "execution_count": 28,
   "id": "30d41d1c-12be-495c-9df2-20bd6777ea2e",
   "metadata": {},
   "outputs": [],
   "source": [
    "# Building Naive Bayes algorithm\n",
    "\n",
    "pipeline_classify_bnb = Pipeline([('TF-IDF', TfidfVectorizer()), ('Classifier_Model', BernoulliNB())])\n",
    "pipeline_classify_bnb.fit(x_train, y_train)\n",
    "pred_train_bnb = pipeline_classify_bnb.predict(x_train)\n",
    "pred_test_bnb = pipeline_classify_bnb.predict(x_test)"
   ]
  },
  {
   "cell_type": "code",
   "execution_count": 29,
   "id": "888def58-8b7c-4ebd-96b1-17080cc1794e",
   "metadata": {},
   "outputs": [
    {
     "name": "stdout",
     "output_type": "stream",
     "text": [
      "The classification report and confusion matrix for the XG Boost Classifier model is: \n",
      "\n",
      "\n",
      "\n",
      "\n",
      "The classification report and confusion matrix for Train data:\n",
      "\n",
      "\n",
      "              precision    recall  f1-score   support\n",
      "\n",
      "           0       0.88      0.93      0.91     15004\n",
      "           1       0.93      0.88      0.90     14996\n",
      "\n",
      "    accuracy                           0.90     30000\n",
      "   macro avg       0.91      0.90      0.90     30000\n",
      "weighted avg       0.91      0.90      0.90     30000\n",
      "\n",
      "----------------------------------------------------------------------------------------------------\n",
      "[[13953  1051]\n",
      " [ 1821 13175]]\n",
      "----------------------------------------------------------------------------------------------------\n",
      "The accuracy score for train data: 0.9042666666666667\n",
      "The classification report and confusion matrix for Test data:\n",
      "\n",
      "\n",
      "              precision    recall  f1-score   support\n",
      "\n",
      "           0       0.84      0.88      0.86      5015\n",
      "           1       0.87      0.83      0.85      4985\n",
      "\n",
      "    accuracy                           0.85     10000\n",
      "   macro avg       0.85      0.85      0.85     10000\n",
      "weighted avg       0.85      0.85      0.85     10000\n",
      "\n",
      "----------------------------------------------------------------------------------------------------\n",
      "[[4390  625]\n",
      " [ 846 4139]]\n",
      "----------------------------------------------------------------------------------------------------\n",
      "The accuracy score for Test data: 0.8529\n"
     ]
    }
   ],
   "source": [
    "# Model Performance:\n",
    "\n",
    "print('The classification report and confusion matrix for the XG Boost Classifier model is: ')\n",
    "print('\\n')\n",
    "print('\\n')\n",
    "print('The classification report and confusion matrix for Train data:')\n",
    "print('\\n')\n",
    "print(classification_report(y_train, pred_train_bnb))\n",
    "print('--'*50)\n",
    "print(confusion_matrix(y_train, pred_train_bnb))\n",
    "print('--'*50)\n",
    "print('The accuracy score for train data:', accuracy_score(y_train, pred_train_bnb))\n",
    "\n",
    "print('The classification report and confusion matrix for Test data:')\n",
    "print('\\n')\n",
    "print(classification_report(y_test, pred_test_bnb))\n",
    "print('--'*50)\n",
    "print(confusion_matrix(y_test, pred_test_bnb))\n",
    "print('--'*50)\n",
    "print('The accuracy score for Test data:', accuracy_score(y_test, pred_test_bnb))"
   ]
  },
  {
   "cell_type": "code",
   "execution_count": 32,
   "id": "7d1c7a20-f1f4-4ae8-b79c-aabc12e5856f",
   "metadata": {},
   "outputs": [
    {
     "name": "stdout",
     "output_type": "stream",
     "text": [
      "Cross Validation mean accuracy for train data is: 0.8516333333333334\n",
      "Cross Validation mean accuracy for test data is: 0.8394999999999999\n"
     ]
    }
   ],
   "source": [
    "cross_val_train = cross_val_score(estimator=pipeline_classify_bnb, X=x_train, y=y_train, cv=5, scoring='accuracy')\n",
    "cross_val_test = cross_val_score(estimator=pipeline_classify_bnb, X=x_test, y=y_test, cv=5, scoring='accuracy')\n",
    "print('Cross Validation mean accuracy for train data is:', np.mean(cross_val_train))\n",
    "print('Cross Validation mean accuracy for test data is:', np.mean(cross_val_test))"
   ]
  },
  {
   "cell_type": "markdown",
   "id": "fc111f72",
   "metadata": {},
   "source": [
    "It is observed that XGBClassifier model is giving better accuracy when compared to Random Forest and Naive Bayes, hence using the model to predict the test data."
   ]
  },
  {
   "cell_type": "code",
   "execution_count": 35,
   "id": "a32d32ed",
   "metadata": {},
   "outputs": [
    {
     "data": {
      "text/html": [
       "<div>\n",
       "<style scoped>\n",
       "    .dataframe tbody tr th:only-of-type {\n",
       "        vertical-align: middle;\n",
       "    }\n",
       "\n",
       "    .dataframe tbody tr th {\n",
       "        vertical-align: top;\n",
       "    }\n",
       "\n",
       "    .dataframe thead th {\n",
       "        text-align: right;\n",
       "    }\n",
       "</style>\n",
       "<table border=\"1\" class=\"dataframe\">\n",
       "  <thead>\n",
       "    <tr style=\"text-align: right;\">\n",
       "      <th></th>\n",
       "      <th>text</th>\n",
       "    </tr>\n",
       "  </thead>\n",
       "  <tbody>\n",
       "    <tr>\n",
       "      <th>0</th>\n",
       "      <td>It's been about 14 years since Sharon Stone aw...</td>\n",
       "    </tr>\n",
       "    <tr>\n",
       "      <th>1</th>\n",
       "      <td>someone needed to make a car payment... this i...</td>\n",
       "    </tr>\n",
       "    <tr>\n",
       "      <th>2</th>\n",
       "      <td>The Guidelines state that a comment must conta...</td>\n",
       "    </tr>\n",
       "    <tr>\n",
       "      <th>3</th>\n",
       "      <td>This movie is a muddled mish-mash of clichés f...</td>\n",
       "    </tr>\n",
       "    <tr>\n",
       "      <th>4</th>\n",
       "      <td>Before Stan Laurel became the smaller half of ...</td>\n",
       "    </tr>\n",
       "  </tbody>\n",
       "</table>\n",
       "</div>"
      ],
      "text/plain": [
       "                                                text\n",
       "0  It's been about 14 years since Sharon Stone aw...\n",
       "1  someone needed to make a car payment... this i...\n",
       "2  The Guidelines state that a comment must conta...\n",
       "3  This movie is a muddled mish-mash of clichés f...\n",
       "4  Before Stan Laurel became the smaller half of ..."
      ]
     },
     "execution_count": 35,
     "metadata": {},
     "output_type": "execute_result"
    }
   ],
   "source": [
    "df_merged_test.iloc[0:,0:1].head()"
   ]
  },
  {
   "cell_type": "code",
   "execution_count": 41,
   "id": "38b82379-03ba-48f5-a4ad-ffeba17e2eb6",
   "metadata": {},
   "outputs": [],
   "source": [
    "pred_test = pipeline_classify_xgb.predict(df_merged_test['text'])"
   ]
  },
  {
   "cell_type": "code",
   "execution_count": 42,
   "id": "3f6569ff",
   "metadata": {},
   "outputs": [
    {
     "data": {
      "text/plain": [
       "array([0, 0, 0, ..., 0, 0, 0])"
      ]
     },
     "execution_count": 42,
     "metadata": {},
     "output_type": "execute_result"
    }
   ],
   "source": [
    "pred_test"
   ]
  },
  {
   "cell_type": "code",
   "execution_count": 44,
   "id": "a4b6beb1-e811-403e-885c-353612764120",
   "metadata": {},
   "outputs": [
    {
     "name": "stdout",
     "output_type": "stream",
     "text": [
      "The accuracy score for test data prediction is: 0.8537\n"
     ]
    }
   ],
   "source": [
    "print('The accuracy score for test data prediction is:', accuracy_score(df_merged_test['label'], pred_test))"
   ]
  },
  {
   "cell_type": "code",
   "execution_count": 45,
   "id": "c03ebb3c-0808-4a3e-afca-19f38cd4b0e3",
   "metadata": {},
   "outputs": [],
   "source": [
    "df_merged_test['Predicted'] = pred_test"
   ]
  },
  {
   "cell_type": "code",
   "execution_count": 46,
   "id": "1c664b7a-ada8-4513-a95e-9cbf2927efcb",
   "metadata": {},
   "outputs": [
    {
     "data": {
      "text/html": [
       "<div>\n",
       "<style scoped>\n",
       "    .dataframe tbody tr th:only-of-type {\n",
       "        vertical-align: middle;\n",
       "    }\n",
       "\n",
       "    .dataframe tbody tr th {\n",
       "        vertical-align: top;\n",
       "    }\n",
       "\n",
       "    .dataframe thead th {\n",
       "        text-align: right;\n",
       "    }\n",
       "</style>\n",
       "<table border=\"1\" class=\"dataframe\">\n",
       "  <thead>\n",
       "    <tr style=\"text-align: right;\">\n",
       "      <th></th>\n",
       "      <th>text</th>\n",
       "      <th>label</th>\n",
       "      <th>Predicted</th>\n",
       "    </tr>\n",
       "  </thead>\n",
       "  <tbody>\n",
       "    <tr>\n",
       "      <th>0</th>\n",
       "      <td>It's been about 14 years since Sharon Stone aw...</td>\n",
       "      <td>0</td>\n",
       "      <td>0</td>\n",
       "    </tr>\n",
       "    <tr>\n",
       "      <th>1</th>\n",
       "      <td>someone needed to make a car payment... this i...</td>\n",
       "      <td>0</td>\n",
       "      <td>0</td>\n",
       "    </tr>\n",
       "    <tr>\n",
       "      <th>2</th>\n",
       "      <td>The Guidelines state that a comment must conta...</td>\n",
       "      <td>0</td>\n",
       "      <td>0</td>\n",
       "    </tr>\n",
       "    <tr>\n",
       "      <th>3</th>\n",
       "      <td>This movie is a muddled mish-mash of clichés f...</td>\n",
       "      <td>0</td>\n",
       "      <td>0</td>\n",
       "    </tr>\n",
       "    <tr>\n",
       "      <th>4</th>\n",
       "      <td>Before Stan Laurel became the smaller half of ...</td>\n",
       "      <td>0</td>\n",
       "      <td>0</td>\n",
       "    </tr>\n",
       "    <tr>\n",
       "      <th>5</th>\n",
       "      <td>This is the best movie I've ever seen! &lt;br /&gt;&lt;...</td>\n",
       "      <td>1</td>\n",
       "      <td>1</td>\n",
       "    </tr>\n",
       "    <tr>\n",
       "      <th>6</th>\n",
       "      <td>The morbid Catholic writer Gerard Reve (Jeroen...</td>\n",
       "      <td>1</td>\n",
       "      <td>1</td>\n",
       "    </tr>\n",
       "    <tr>\n",
       "      <th>7</th>\n",
       "      <td>\"Semana Santa\" or \"Angel Of Death\" is a very w...</td>\n",
       "      <td>0</td>\n",
       "      <td>0</td>\n",
       "    </tr>\n",
       "    <tr>\n",
       "      <th>8</th>\n",
       "      <td>Somebody mastered the difficult task of mergin...</td>\n",
       "      <td>1</td>\n",
       "      <td>1</td>\n",
       "    </tr>\n",
       "    <tr>\n",
       "      <th>9</th>\n",
       "      <td>Why did I waste 1.5 hours of my life watching ...</td>\n",
       "      <td>0</td>\n",
       "      <td>0</td>\n",
       "    </tr>\n",
       "    <tr>\n",
       "      <th>10</th>\n",
       "      <td>This film takes you on one family's impossible...</td>\n",
       "      <td>1</td>\n",
       "      <td>1</td>\n",
       "    </tr>\n",
       "    <tr>\n",
       "      <th>11</th>\n",
       "      <td>The Russian space station 'Avna' with a crew o...</td>\n",
       "      <td>0</td>\n",
       "      <td>0</td>\n",
       "    </tr>\n",
       "    <tr>\n",
       "      <th>12</th>\n",
       "      <td>the more i think about it, there was nothing r...</td>\n",
       "      <td>0</td>\n",
       "      <td>0</td>\n",
       "    </tr>\n",
       "    <tr>\n",
       "      <th>13</th>\n",
       "      <td>This is very dated, but that's part of the cha...</td>\n",
       "      <td>1</td>\n",
       "      <td>1</td>\n",
       "    </tr>\n",
       "    <tr>\n",
       "      <th>14</th>\n",
       "      <td>I had seen 'Kalifornia' before (must be about ...</td>\n",
       "      <td>1</td>\n",
       "      <td>0</td>\n",
       "    </tr>\n",
       "    <tr>\n",
       "      <th>15</th>\n",
       "      <td>A powerful adaptation of the best-selling book...</td>\n",
       "      <td>1</td>\n",
       "      <td>1</td>\n",
       "    </tr>\n",
       "    <tr>\n",
       "      <th>16</th>\n",
       "      <td>This movie's origins are a mystery to me, as I...</td>\n",
       "      <td>1</td>\n",
       "      <td>1</td>\n",
       "    </tr>\n",
       "    <tr>\n",
       "      <th>17</th>\n",
       "      <td>I really enjoyed the first film and when it tu...</td>\n",
       "      <td>0</td>\n",
       "      <td>1</td>\n",
       "    </tr>\n",
       "    <tr>\n",
       "      <th>18</th>\n",
       "      <td>Hi, Everyone, Oh, Boy... This one is a lulu. I...</td>\n",
       "      <td>0</td>\n",
       "      <td>0</td>\n",
       "    </tr>\n",
       "    <tr>\n",
       "      <th>19</th>\n",
       "      <td>It takes a while to get adjusted to the sound ...</td>\n",
       "      <td>1</td>\n",
       "      <td>1</td>\n",
       "    </tr>\n",
       "  </tbody>\n",
       "</table>\n",
       "</div>"
      ],
      "text/plain": [
       "                                                 text  label  Predicted\n",
       "0   It's been about 14 years since Sharon Stone aw...      0          0\n",
       "1   someone needed to make a car payment... this i...      0          0\n",
       "2   The Guidelines state that a comment must conta...      0          0\n",
       "3   This movie is a muddled mish-mash of clichés f...      0          0\n",
       "4   Before Stan Laurel became the smaller half of ...      0          0\n",
       "5   This is the best movie I've ever seen! <br /><...      1          1\n",
       "6   The morbid Catholic writer Gerard Reve (Jeroen...      1          1\n",
       "7   \"Semana Santa\" or \"Angel Of Death\" is a very w...      0          0\n",
       "8   Somebody mastered the difficult task of mergin...      1          1\n",
       "9   Why did I waste 1.5 hours of my life watching ...      0          0\n",
       "10  This film takes you on one family's impossible...      1          1\n",
       "11  The Russian space station 'Avna' with a crew o...      0          0\n",
       "12  the more i think about it, there was nothing r...      0          0\n",
       "13  This is very dated, but that's part of the cha...      1          1\n",
       "14  I had seen 'Kalifornia' before (must be about ...      1          0\n",
       "15  A powerful adaptation of the best-selling book...      1          1\n",
       "16  This movie's origins are a mystery to me, as I...      1          1\n",
       "17  I really enjoyed the first film and when it tu...      0          1\n",
       "18  Hi, Everyone, Oh, Boy... This one is a lulu. I...      0          0\n",
       "19  It takes a while to get adjusted to the sound ...      1          1"
      ]
     },
     "execution_count": 46,
     "metadata": {},
     "output_type": "execute_result"
    }
   ],
   "source": [
    "df_merged_test.head(20)"
   ]
  },
  {
   "cell_type": "code",
   "execution_count": 48,
   "id": "98a29332-843c-414e-8403-c8fb0f0598f2",
   "metadata": {},
   "outputs": [],
   "source": [
    "def review_classify(review):\n",
    "    result = pipeline_classify_xgb.predict([review])\n",
    "    if result == [1]:\n",
    "        print('The reviewer likes the movie')\n",
    "    else:\n",
    "        print('The reviewer does not like the movie')"
   ]
  },
  {
   "cell_type": "markdown",
   "id": "8d5d18e2",
   "metadata": {},
   "source": [
    "Review 1:\n",
    "\n",
    "\"This exceptional film weaves a captivating narrative, featuring stellar performances, breathtaking cinematography, and a soul-stirring soundtrack, making it an absolute must-watch for any movie lover.\""
   ]
  },
  {
   "cell_type": "code",
   "execution_count": 49,
   "id": "99ae3708-784d-467f-8344-157eb96caf62",
   "metadata": {},
   "outputs": [
    {
     "name": "stdout",
     "output_type": "stream",
     "text": [
      "The reviewer likes the movie\n"
     ]
    }
   ],
   "source": [
    "review_classify(\n",
    "\"This exceptional film weaves a captivating narrative, featuring stellar performances, breathtaking cinematography, and a soul-stirring soundtrack, making it an absolute must-watch for any movie lover.\")"
   ]
  },
  {
   "cell_type": "markdown",
   "id": "a43874e7",
   "metadata": {},
   "source": [
    "Review 2:\n",
    "\n",
    "\"This dreadful movie is a convoluted mess, featuring uninspired acting, lackluster visuals, and a soundtrack that feels like an afterthought, making it a painful experience for any viewer.\""
   ]
  },
  {
   "cell_type": "code",
   "execution_count": 50,
   "id": "0096a0b0-faaf-4868-9ed7-c63db71c0ca6",
   "metadata": {},
   "outputs": [
    {
     "name": "stdout",
     "output_type": "stream",
     "text": [
      "The reviewer does not like the movie\n"
     ]
    }
   ],
   "source": [
    "review_classify(\"This dreadful movie is a convoluted mess, featuring uninspired acting, lackluster visuals, and a soundtrack that feels like an afterthought, making it a painful experience for any viewer.\")"
   ]
  }
 ],
 "metadata": {
  "kernelspec": {
   "display_name": "Python 3 (ipykernel)",
   "language": "python",
   "name": "python3"
  },
  "language_info": {
   "codemirror_mode": {
    "name": "ipython",
    "version": 3
   },
   "file_extension": ".py",
   "mimetype": "text/x-python",
   "name": "python",
   "nbconvert_exporter": "python",
   "pygments_lexer": "ipython3",
   "version": "3.11.5"
  }
 },
 "nbformat": 4,
 "nbformat_minor": 5
}
